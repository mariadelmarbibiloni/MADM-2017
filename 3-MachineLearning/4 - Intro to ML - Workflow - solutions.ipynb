{
 "cells": [
  {
   "cell_type": "markdown",
   "metadata": {
    "collapsed": true
   },
   "source": [
    "# Intro to ML\n",
    "## Workflow: Pipelines and Feature Unions\n",
    "---\n",
    "\n",
    "En la última sesión comentamos qué métricas nos permiten discriminar los modelos y cómo calcularlas con especial enfasis en métricas de clasificación.\n",
    "\n",
    "En la sesión de hoy, haremos una mención especial a cómo tratar de forma programática las distintas fases de un trabajo o proyecto de modelización: transformación de los datos, afinado de hiper-parametros y validación.\n",
    "\n",
    "\n",
    "<div class=\"panel panel-success\">\n",
    "    <div class='panel-heading'>\n",
    "    <h4>Empecemos</h4>\n",
    "    </div>\n",
    "    <div class='panel-body'>\n",
    "    <ol type=\"A\">\n",
    "    <li>Pipelines</li>\n",
    "    <li>Feature Unions</li>\n",
    "</ol>"
   ]
  },
  {
   "cell_type": "markdown",
   "metadata": {},
   "source": [
    "## 1. Pipelines\n",
    "---\n",
    "\n",
    "Al encarar un proyecto de modelizado de datos, antes de poder utilizar un motor de predicción o clasificación, tendremos que *jugar* con los datos con dos objetivos:\n",
    "\n",
    "1. Modificar/seleccionar las variables predictoras con tal de obtener las mejores predicciones\n",
    "1. Alimentar el algoritmo de ML con un formato de datos que sea capaz de utilizar\n",
    "\n",
    "Dicho de otra forma, los datos pasarán por una serie transformaciones y, por último, por un paso de modelizado. Cada uno de los pasos de la secuencia puede ser definido como un **componente** y el flujo de transformación como una serie de **componentes** encadenados.\n",
    "\n",
    "---\n",
    "\n",
    "<img src='img/pipeline.png'>\n",
    "\n",
    "---\n",
    "\n",
    "Las `pipelines` permiten encadenar los distintos componentes de forma secuencial de forma que la salida de un componente sea la entrada del siguiente.\n",
    "\n",
    "Veamos un pequeño ejemplo"
   ]
  },
  {
   "cell_type": "markdown",
   "metadata": {},
   "source": [
    "Preparamos los datos con unos cuantos nan's..."
   ]
  },
  {
   "cell_type": "code",
   "execution_count": 30,
   "metadata": {
    "collapsed": true
   },
   "outputs": [],
   "source": [
    "from sklearn.datasets import load_iris\n",
    "import numpy as np\n",
    "\n",
    "data = load_iris()\n",
    "X = data.data\n",
    "y = data.target\n",
    "### adding some nan's\n",
    "mask = np.random.choice([0,1], p=[0.99, 0.01], size=X.shape).astype(np.bool)\n",
    "X[mask] = np.nan"
   ]
  },
  {
   "cell_type": "markdown",
   "metadata": {},
   "source": [
    "---\n"
   ]
  },
  {
   "cell_type": "markdown",
   "metadata": {},
   "source": [
    "### Ejemplo de Pipeline"
   ]
  },
  {
   "cell_type": "markdown",
   "metadata": {},
   "source": [
    "### Solo transformaciones\n",
    "\n",
    "Podemos usar el pipeline como un agregador de transformaciones que tendra un metodo,\n",
    ".fit() y otro .transform()"
   ]
  },
  {
   "cell_type": "code",
   "execution_count": 31,
   "metadata": {},
   "outputs": [
    {
     "name": "stdout",
     "output_type": "stream",
     "text": [
      "X_train: \n",
      "\n",
      "Mean before pipeline:  [ nan  nan  nan  1.2]\n",
      "Mean after pipeline:  [ -3.13082893e-16  -1.38888900e-15   2.88657986e-16   6.21724894e-16]\n",
      "\n",
      " X_test: \n",
      "\n",
      "Mean before pipeline:  [ 5.858  3.054    nan    nan]\n",
      "Mean after pipeline:  [ 0.05618186  0.00207421 -0.02993226 -0.03496317]\n"
     ]
    }
   ],
   "source": [
    "from sklearn.model_selection import train_test_split\n",
    "from sklearn.pipeline import Pipeline\n",
    "from sklearn.preprocessing import StandardScaler\n",
    "from sklearn.preprocessing import Imputer\n",
    "\n",
    "## Dividimos los datos en test y train\n",
    "X_train, X_test, y_train, y_test = train_test_split(X, y, test_size=0.33, random_state=1234, shuffle=True)\n",
    "\n",
    "## Definimos los pasos del pipeline como tuplas (name, Transformer)\n",
    "imputation_step = ('imputer', Imputer())\n",
    "scaling_step = ('scaler', StandardScaler())\n",
    "\n",
    "## Los ordenamos en una lista\n",
    "steps = [imputation_step, scaling_step]\n",
    "\n",
    "## Finalmente llamamos al creador de pipeline\n",
    "pipe = Pipeline(steps)\n",
    "\n",
    "X_train_transformed = pipe.fit_transform(X_train)\n",
    "X_test_transformed = pipe.transform(X_test)\n",
    "\n",
    "print('X_train: \\n')\n",
    "print('Mean before pipeline: ', X_train.mean(axis=0))\n",
    "print('Mean after pipeline: ', X_train_transformed.mean(axis=0))\n",
    "\n",
    "print('\\n X_test: \\n')\n",
    "print('Mean before pipeline: ', X_test.mean(axis=0))\n",
    "print('Mean after pipeline: ', X_test_transformed.mean(axis=0))"
   ]
  },
  {
   "cell_type": "markdown",
   "metadata": {},
   "source": [
    "### Grid search sobre parametros de los transformadores\n",
    "\n",
    "Una de las ventajas de usar un pipeline, es que podemos definir un gridsearch donde los parametros de busqueda incluyan aquellos de los transformadores. Vamos a ver si es mejor usar la media o la mediana..."
   ]
  },
  {
   "cell_type": "code",
   "execution_count": 32,
   "metadata": {},
   "outputs": [
    {
     "name": "stdout",
     "output_type": "stream",
     "text": [
      "Best score:  0.96\n"
     ]
    }
   ],
   "source": [
    "from sklearn.pipeline import Pipeline\n",
    "from sklearn.preprocessing import StandardScaler\n",
    "from sklearn.preprocessing import Imputer\n",
    "from sklearn.ensemble import RandomForestClassifier\n",
    "from sklearn.model_selection import GridSearchCV\n",
    "from sklearn.model_selection import train_test_split\n",
    "\n",
    "## Dividimos los datos en test y train\n",
    "X_train, X_test, y_train, y_test = train_test_split(X, y, test_size=0.33, random_state=1234, shuffle=True)\n",
    "\n",
    "## Definimos los pasos del pipeline como tuplas (name, Transformer)\n",
    "imputation_step = ('imputer', Imputer())\n",
    "scaling_step = ('scaler', StandardScaler())\n",
    "model_step = ('clf', RandomForestClassifier())\n",
    "\n",
    "## Los ordenamos en una lista\n",
    "steps = [imputation_step, scaling_step, model_step]\n",
    "\n",
    "## Finalmente llamamos al creador de pipeline\n",
    "pipe = Pipeline(steps)\n",
    "\n",
    "\n",
    "## Definimos el espacio de busqueda para el gridsearch.\n",
    "## Podemos acceder a los distintos hiperparametros de los Transformadores como nombre__hiperparametro\n",
    "\n",
    "param_grid = {'imputer__strategy': ['mean', 'median'],\n",
    "              'clf__max_depth': [3, 5, 10],\n",
    "              'clf__min_samples_leaf': [2, 5, 10]}\n",
    "\n",
    "## usamos el pipe como estimador en el gridsearch\n",
    "clf_gs = GridSearchCV(pipe, cv=3, n_jobs=-1, param_grid=param_grid)\n",
    "\n",
    "clf_gs.fit(X_train, y_train)\n",
    "\n",
    "print('Best score: ', clf_gs.best_score_)"
   ]
  },
  {
   "cell_type": "markdown",
   "metadata": {},
   "source": [
    "Para poder hacer predicciones, simplemente debemos llamar al clf_gs con el metodo predict.\n",
    "El pipeline se encarga de hacer las transformaciones necesarias antes de pasarle los datos al predictor."
   ]
  },
  {
   "cell_type": "code",
   "execution_count": 33,
   "metadata": {
    "collapsed": true
   },
   "outputs": [],
   "source": [
    "y_test_pred = clf_gs.predict(X_test)"
   ]
  },
  {
   "cell_type": "code",
   "execution_count": 34,
   "metadata": {},
   "outputs": [
    {
     "name": "stdout",
     "output_type": "stream",
     "text": [
      "             precision    recall  f1-score   support\n",
      "\n",
      "          0       1.00      1.00      1.00        17\n",
      "          1       0.94      0.94      0.94        17\n",
      "          2       0.94      0.94      0.94        16\n",
      "\n",
      "avg / total       0.96      0.96      0.96        50\n",
      "\n"
     ]
    }
   ],
   "source": [
    "from sklearn.metrics import classification_report\n",
    "\n",
    "print(classification_report(y_test, y_test_pred))"
   ]
  },
  {
   "cell_type": "markdown",
   "metadata": {},
   "source": [
    "---"
   ]
  },
  {
   "cell_type": "markdown",
   "metadata": {},
   "source": [
    "### Disgresión\n",
    "#### Feature engineering usando Principal Component Analysis\n",
    "\n",
    "La explicación de como funciona el analisis de componentes principales, o PCA por sus siglas en inglés, está fuera de los objetivos de esta sesión. Sin embargo, al ser una herramienta muy útil a la hora de trabajar con datos multi-dimensionales, merece la pena una mención de como usarlo a nivel práctico.\n",
    "\n",
    "Realizar PCA sobre un set de datos multidimensional nos permitirá:\n",
    "\n",
    "1. Visualizar una proyección de los datos en 2-3 dimensiones\n",
    "1. Reducir el número de predictores: seleccionaremos un número límitado de componentes de forma que expliquemos la mayor parte de la varianza de los datos\n",
    "\n",
    "Por ejemplo..."
   ]
  },
  {
   "cell_type": "code",
   "execution_count": 35,
   "metadata": {},
   "outputs": [],
   "source": [
    "from sklearn.datasets import load_breast_cancer\n",
    "from sklearn.decomposition import PCA\n",
    "from sklearn.preprocessing import MinMaxScaler\n",
    "\n",
    "data = load_breast_cancer()\n",
    "X = data.data\n",
    "y = data.target\n",
    "\n",
    "pca = PCA()\n",
    "scaler = MinMaxScaler()\n",
    "\n",
    "X_pca = pca.fit_transform(scaler.fit_transform(X))"
   ]
  },
  {
   "cell_type": "markdown",
   "metadata": {},
   "source": [
    "Plot the results"
   ]
  },
  {
   "cell_type": "code",
   "execution_count": 36,
   "metadata": {},
   "outputs": [
    {
     "data": {
      "text/plain": [
       "<matplotlib.text.Text at 0x7f2d500644a8>"
      ]
     },
     "execution_count": 36,
     "metadata": {},
     "output_type": "execute_result"
    },
    {
     "data": {
      "image/png": "[encoded data removed]",
      "text/plain": [
       "<matplotlib.figure.Figure at 0x7f2d4bf9e208>"
      ]
     },
     "metadata": {},
     "output_type": "display_data"
    }
   ],
   "source": [
    "%matplotlib inline\n",
    "import matplotlib.pyplot as plt\n",
    "\n",
    "f, ax = plt.subplots(ncols=2, figsize=(12, 5))\n",
    "\n",
    "ax[0].scatter(X_pca[y==0][:,0], X_pca[y==0][:, 1], c='green', alpha=0.5, label='Not Cancer')\n",
    "ax[0].scatter(X_pca[y==1][:,0], X_pca[y==1][:, 1], c='firebrick', alpha=0.5, label='Cancer')\n",
    "ax[0].legend(loc='upper left')\n",
    "ax[0].set_title('2D Projection')\n",
    "ax[1].plot(pca.explained_variance_ratio_.cumsum())\n",
    "ax[1].set_xlabel('Num of PCA components')\n",
    "ax[1].set_title('Explained Variance')"
   ]
  },
  {
   "cell_type": "markdown",
   "metadata": {},
   "source": [
    "---"
   ]
  },
  {
   "cell_type": "markdown",
   "metadata": {},
   "source": [
    "### Ejercicio: Traduce el siguiente script a un pipeline y evalualo en el dataset de testeo.\n",
    "\n",
    "Nota: En vez de seleccionar manualmente el umbral de varianza explicada para el PCA, introduce el número de componentes en el gridsearch del pipeline."
   ]
  },
  {
   "cell_type": "code",
   "execution_count": 37,
   "metadata": {},
   "outputs": [
    {
     "name": "stdout",
     "output_type": "stream",
     "text": [
      "Fitting 5 folds for each of 75 candidates, totalling 375 fits\n"
     ]
    },
    {
     "name": "stderr",
     "output_type": "stream",
     "text": [
      "[Parallel(n_jobs=-1)]: Done 212 tasks      | elapsed:    2.7s\n",
      "[Parallel(n_jobs=-1)]: Done 375 out of 375 | elapsed:    4.5s finished\n"
     ]
    },
    {
     "data": {
      "text/plain": [
       "GridSearchCV(cv=StratifiedKFold(n_splits=5, random_state=1234, shuffle=True),\n",
       "       error_score='raise',\n",
       "       estimator=RandomForestClassifier(bootstrap=True, class_weight=None, criterion='gini',\n",
       "            max_depth=None, max_features='auto', max_leaf_nodes=None,\n",
       "            min_impurity_decrease=0.0, min_impurity_split=None,\n",
       "            min_samples_leaf=1, min_samples_split=2,\n",
       "            min_weight_fraction_leaf=0.0, n_estimators=10, n_jobs=1,\n",
       "            oob_score=False, random_state=None, verbose=0,\n",
       "            warm_start=False),\n",
       "       fit_params=None, iid=True, n_jobs=-1,\n",
       "       param_grid={'max_depth': [2, 3, 4], 'min_samples_leaf': [8, 9, 10, 11, 12], 'min_samples_split': [3, 4, 5, 6, 7]},\n",
       "       pre_dispatch='2*n_jobs', refit=True, return_train_score=True,\n",
       "       scoring=None, verbose=1)"
      ]
     },
     "execution_count": 37,
     "metadata": {},
     "output_type": "execute_result"
    }
   ],
   "source": [
    "import pandas as pd\n",
    "from sklearn.datasets import load_wine\n",
    "data = load_wine()\n",
    "\n",
    "df = pd.DataFrame(data.data, columns=data.feature_names)\n",
    "df['y'] = data.target\n",
    "\n",
    "# train test split\n",
    "from sklearn.model_selection import train_test_split\n",
    "\n",
    "X_train, X_test, y_train, y_test = train_test_split(df.drop('y', axis=1), df.y,\n",
    "                                                    test_size = 0.33, random_state=123)\n",
    "###########################################\n",
    "## Transformation 1: Polynomial Features ##\n",
    "###########################################\n",
    "\n",
    "from sklearn.preprocessing import PolynomialFeatures\n",
    "\n",
    "#instantiate polynomial features\n",
    "poly = PolynomialFeatures(degree=2, interaction_only=True)\n",
    "\n",
    "# fit scaler to train data\n",
    "poly.fit(X_train)\n",
    "\n",
    "# scale X_train\n",
    "X_train_poly= poly.transform(X_train)\n",
    "\n",
    "#######################################\n",
    "## Transformation 2: feature scaling ##\n",
    "#######################################\n",
    "\n",
    "## It is important to only to fit the transformer on the train dataset!\n",
    "from sklearn.preprocessing import StandardScaler\n",
    "\n",
    "# instantiate scaler\n",
    "scaler = StandardScaler()\n",
    "\n",
    "# fit scaler to train data\n",
    "scaler.fit(X_train_poly)\n",
    "\n",
    "# scale X_train\n",
    "X_train_poly_scaled= scaler.transform(X_train_poly)\n",
    "\n",
    "###########################\n",
    "## Transformation 3: PCA ##\n",
    "###########################\n",
    "\n",
    "from sklearn.decomposition import PCA\n",
    "\n",
    "# instantiate pca\n",
    "pca = PCA()\n",
    "\n",
    "# fit PCA to scaled train data\n",
    "pca.fit(X_train_poly_scaled)\n",
    "\n",
    "# scale X_train\n",
    "X_train_poly_scaled_pca = pca.transform(X_train_poly_scaled)\n",
    "\n",
    "#########################################\n",
    "## Transformation 4: Feature Selection ##\n",
    "#########################################\n",
    "\n",
    "# Num of components needed to reach 95%\n",
    "num_comp_95 = pca.explained_variance_ratio_[pca.explained_variance_ratio_.cumsum() < 0.95].shape[0]\n",
    "\n",
    "# instantiate pca with number of components desired\n",
    "pca = PCA(num_comp_95)\n",
    "\n",
    "# refit PCA to scaled train data\n",
    "pca.fit(X_train_poly_scaled)\n",
    "\n",
    "# scale X_train\n",
    "X_train_final = pca.transform(X_train_poly_scaled)\n",
    "\n",
    "##################\n",
    "## Modelization ##\n",
    "##################\n",
    "\n",
    "from sklearn.model_selection import StratifiedKFold\n",
    "from sklearn.model_selection import GridSearchCV\n",
    "from sklearn.ensemble import RandomForestClassifier\n",
    "\n",
    "## Define stratified kfold\n",
    "skfold = StratifiedKFold(n_splits=5, shuffle=True, random_state=1234)\n",
    "\n",
    "## Instantiate Random Forest\n",
    "clf_rf = RandomForestClassifier()\n",
    "\n",
    "## set up a parameter grid for the gridsearch\n",
    "params_clf_rf = {'max_depth': [2, 3, 4],\n",
    "                 'min_samples_leaf': [8, 9, 10, 11, 12],\n",
    "                 'min_samples_split': [3, 4, 5, 6, 7]}\n",
    "\n",
    "## Instantiate the gridsearch\n",
    "clf_gs = GridSearchCV(estimator=clf_rf, cv=skfold, param_grid=params_clf_rf, verbose=1, n_jobs=-1)\n",
    "\n",
    "## Fit the gridsearch\n",
    "clf_gs.fit(X_train_final, y_train)"
   ]
  },
  {
   "cell_type": "markdown",
   "metadata": {},
   "source": [
    "### Solution"
   ]
  },
  {
   "cell_type": "code",
   "execution_count": 38,
   "metadata": {},
   "outputs": [
    {
     "name": "stdout",
     "output_type": "stream",
     "text": [
      "Fitting 3 folds for each of 108 candidates, totalling 324 fits\n"
     ]
    },
    {
     "name": "stderr",
     "output_type": "stream",
     "text": [
      "[Parallel(n_jobs=-1)]: Done  76 tasks      | elapsed:    3.6s\n",
      "[Parallel(n_jobs=-1)]: Done 324 out of 324 | elapsed:   15.4s finished\n"
     ]
    },
    {
     "data": {
      "text/plain": [
       "GridSearchCV(cv=StratifiedKFold(n_splits=3, random_state=1234, shuffle=True),\n",
       "       error_score='raise',\n",
       "       estimator=Pipeline(memory=None,\n",
       "     steps=[('poly', PolynomialFeatures(degree=2, include_bias=True, interaction_only=False)), ('scaler', StandardScaler(copy=True, with_mean=True, with_std=True)), ('pca', PCA(copy=True, iterated_power='auto', n_components=None, random_state=None,\n",
       "  svd_solver='auto', tol=0.0, whiten=False)), ('clf', Ra...n_jobs=1,\n",
       "            oob_score=False, random_state=None, verbose=0,\n",
       "            warm_start=False))]),\n",
       "       fit_params=None, iid=True, n_jobs=-1,\n",
       "       param_grid={'poly__degree': [2, 3], 'pca__n_components': [9, 10, 11], 'clf__max_depth': [3, 4], 'clf__min_samples_leaf': [8, 9, 10], 'clf__min_samples_split': [5, 6, 7]},\n",
       "       pre_dispatch='2*n_jobs', refit=True, return_train_score=True,\n",
       "       scoring=None, verbose=1)"
      ]
     },
     "execution_count": 38,
     "metadata": {},
     "output_type": "execute_result"
    }
   ],
   "source": [
    "###########################################\n",
    "## Transformation 1: Polynomial Features ##\n",
    "###########################################\n",
    "\n",
    "from sklearn.preprocessing import PolynomialFeatures\n",
    "\n",
    "#instantiate polynomial features\n",
    "step_poly = ('poly', PolynomialFeatures())\n",
    "\n",
    "#######################################\n",
    "## Transformation 2: feature scaling ##\n",
    "#######################################\n",
    "\n",
    "from sklearn.preprocessing import StandardScaler\n",
    "\n",
    "step_scaler = ('scaler', StandardScaler())\n",
    "\n",
    "###########################\n",
    "## Transformation 3: PCA ##\n",
    "###########################\n",
    "\n",
    "from sklearn.decomposition import PCA\n",
    "\n",
    "step_pca = ('pca', PCA())\n",
    "\n",
    "##################\n",
    "## Modelization ##\n",
    "##################\n",
    "\n",
    "from sklearn.ensemble import RandomForestClassifier\n",
    "\n",
    "model_step = ('clf', RandomForestClassifier())\n",
    "\n",
    "##########################\n",
    "## Make pipe            ##\n",
    "##########################\n",
    "from sklearn.pipeline import Pipeline\n",
    "\n",
    "pipe_steps = [step_poly, step_scaler, step_pca, model_step]\n",
    "pipe = Pipeline(pipe_steps)\n",
    "\n",
    "\n",
    "from sklearn.model_selection import StratifiedKFold\n",
    "from sklearn.model_selection import GridSearchCV\n",
    "\n",
    "## Define stratified kfold\n",
    "skfold = StratifiedKFold(n_splits=3, shuffle=True, random_state=1234)\n",
    "\n",
    "params_pipe = {'poly__degree': [2, 3],\n",
    "               'pca__n_components': [9, 10, 11],\n",
    "               'clf__max_depth': [3, 4],\n",
    "               'clf__min_samples_leaf': [8, 9, 10],\n",
    "               'clf__min_samples_split': [5, 6, 7]}\n",
    "\n",
    "## Instantiate the gridsearch\n",
    "clf_gs = GridSearchCV(pipe, cv=skfold, param_grid=params_pipe, verbose=1, n_jobs=-1)\n",
    "\n",
    "## Fit the gridsearch\n",
    "clf_gs.fit(X_train, y_train)"
   ]
  },
  {
   "cell_type": "code",
   "execution_count": 39,
   "metadata": {},
   "outputs": [
    {
     "name": "stdout",
     "output_type": "stream",
     "text": [
      "{'poly': PolynomialFeatures(degree=2, include_bias=True, interaction_only=False), 'scaler': StandardScaler(copy=True, with_mean=True, with_std=True), 'pca': PCA(copy=True, iterated_power='auto', n_components=10, random_state=None,\n",
      "  svd_solver='auto', tol=0.0, whiten=False), 'clf': RandomForestClassifier(bootstrap=True, class_weight=None, criterion='gini',\n",
      "            max_depth=3, max_features='auto', max_leaf_nodes=None,\n",
      "            min_impurity_decrease=0.0, min_impurity_split=None,\n",
      "            min_samples_leaf=9, min_samples_split=5,\n",
      "            min_weight_fraction_leaf=0.0, n_estimators=10, n_jobs=1,\n",
      "            oob_score=False, random_state=None, verbose=0,\n",
      "            warm_start=False)}\n"
     ]
    }
   ],
   "source": [
    "print(clf_gs.best_estimator_.named_steps)"
   ]
  },
  {
   "cell_type": "code",
   "execution_count": 40,
   "metadata": {
    "collapsed": true
   },
   "outputs": [],
   "source": [
    "y_test_pred = clf_gs.predict(X_test)"
   ]
  },
  {
   "cell_type": "code",
   "execution_count": 41,
   "metadata": {},
   "outputs": [
    {
     "name": "stdout",
     "output_type": "stream",
     "text": [
      "             precision    recall  f1-score   support\n",
      "\n",
      "          0       0.52      0.88      0.65        16\n",
      "          1       0.89      0.76      0.82        21\n",
      "          2       1.00      0.64      0.78        22\n",
      "\n",
      "avg / total       0.83      0.75      0.76        59\n",
      "\n"
     ]
    }
   ],
   "source": [
    "print(classification_report(y_test, y_test_pred))"
   ]
  },
  {
   "cell_type": "markdown",
   "metadata": {},
   "source": [
    "## 2. Feature unions\n",
    "\n",
    "Hasta ahora, solo hemos trabajado con un tipo de variables: númericas. Sin embargo, si tuvieramos variables categóricas, deberíamos tratarlas de forma distinta. Por ejemplo, haciendo un OneHotEncoding.\n",
    "\n",
    "Las feature unions nos permiten trabajar con transformaciones según el tipo de variable, para despues unirlas antes de pasarlas al modelo de ML.\n",
    "\n",
    "<img src='img/pipeline+featunion.png'>"
   ]
  },
  {
   "cell_type": "code",
   "execution_count": 42,
   "metadata": {
    "collapsed": true
   },
   "outputs": [],
   "source": [
    "import pandas as pd\n",
    "\n",
    "#data = pd.read_csv('https://archive.ics.uci.edu/ml/machine-learning-databases/abalone/abalone.data', header=None)\n",
    "#data.columns = ['sex', 'length', 'diameter', 'height', 'whole_weight', 'shucked_weight', 'viscera_weight', 'shell_weight', 'y_rings']\n",
    "\n",
    "data = pd.read_csv('data/abalone.csv',)"
   ]
  },
  {
   "cell_type": "code",
   "execution_count": 43,
   "metadata": {},
   "outputs": [
    {
     "data": {
      "text/html": [
       "<div>\n",
       "<style>\n",
       "    .dataframe thead tr:only-child th {\n",
       "        text-align: right;\n",
       "    }\n",
       "\n",
       "    .dataframe thead th {\n",
       "        text-align: left;\n",
       "    }\n",
       "\n",
       "    .dataframe tbody tr th {\n",
       "        vertical-align: top;\n",
       "    }\n",
       "</style>\n",
       "<table border=\"1\" class=\"dataframe\">\n",
       "  <thead>\n",
       "    <tr style=\"text-align: right;\">\n",
       "      <th></th>\n",
       "      <th>sex</th>\n",
       "      <th>length</th>\n",
       "      <th>diameter</th>\n",
       "      <th>height</th>\n",
       "      <th>whole_weight</th>\n",
       "      <th>shucked_weight</th>\n",
       "      <th>viscera_weight</th>\n",
       "      <th>shell_weight</th>\n",
       "      <th>y_rings</th>\n",
       "    </tr>\n",
       "  </thead>\n",
       "  <tbody>\n",
       "    <tr>\n",
       "      <th>0</th>\n",
       "      <td>M</td>\n",
       "      <td>0.455</td>\n",
       "      <td>0.365</td>\n",
       "      <td>0.095</td>\n",
       "      <td>0.5140</td>\n",
       "      <td>0.2245</td>\n",
       "      <td>0.1010</td>\n",
       "      <td>0.150</td>\n",
       "      <td>15</td>\n",
       "    </tr>\n",
       "    <tr>\n",
       "      <th>1</th>\n",
       "      <td>M</td>\n",
       "      <td>0.350</td>\n",
       "      <td>0.265</td>\n",
       "      <td>0.090</td>\n",
       "      <td>0.2255</td>\n",
       "      <td>0.0995</td>\n",
       "      <td>0.0485</td>\n",
       "      <td>0.070</td>\n",
       "      <td>7</td>\n",
       "    </tr>\n",
       "    <tr>\n",
       "      <th>2</th>\n",
       "      <td>F</td>\n",
       "      <td>0.530</td>\n",
       "      <td>0.420</td>\n",
       "      <td>0.135</td>\n",
       "      <td>0.6770</td>\n",
       "      <td>0.2565</td>\n",
       "      <td>0.1415</td>\n",
       "      <td>0.210</td>\n",
       "      <td>9</td>\n",
       "    </tr>\n",
       "    <tr>\n",
       "      <th>3</th>\n",
       "      <td>M</td>\n",
       "      <td>0.440</td>\n",
       "      <td>0.365</td>\n",
       "      <td>0.125</td>\n",
       "      <td>0.5160</td>\n",
       "      <td>0.2155</td>\n",
       "      <td>0.1140</td>\n",
       "      <td>0.155</td>\n",
       "      <td>10</td>\n",
       "    </tr>\n",
       "    <tr>\n",
       "      <th>4</th>\n",
       "      <td>I</td>\n",
       "      <td>0.330</td>\n",
       "      <td>0.255</td>\n",
       "      <td>0.080</td>\n",
       "      <td>0.2050</td>\n",
       "      <td>0.0895</td>\n",
       "      <td>0.0395</td>\n",
       "      <td>0.055</td>\n",
       "      <td>7</td>\n",
       "    </tr>\n",
       "  </tbody>\n",
       "</table>\n",
       "</div>"
      ],
      "text/plain": [
       "  sex  length  diameter  height  whole_weight  shucked_weight  viscera_weight  \\\n",
       "0   M   0.455     0.365   0.095        0.5140          0.2245          0.1010   \n",
       "1   M   0.350     0.265   0.090        0.2255          0.0995          0.0485   \n",
       "2   F   0.530     0.420   0.135        0.6770          0.2565          0.1415   \n",
       "3   M   0.440     0.365   0.125        0.5160          0.2155          0.1140   \n",
       "4   I   0.330     0.255   0.080        0.2050          0.0895          0.0395   \n",
       "\n",
       "   shell_weight  y_rings  \n",
       "0         0.150       15  \n",
       "1         0.070        7  \n",
       "2         0.210        9  \n",
       "3         0.155       10  \n",
       "4         0.055        7  "
      ]
     },
     "execution_count": 43,
     "metadata": {},
     "output_type": "execute_result"
    }
   ],
   "source": [
    "data.head()"
   ]
  },
  {
   "cell_type": "code",
   "execution_count": 44,
   "metadata": {
    "collapsed": true
   },
   "outputs": [],
   "source": [
    "data['sex'] = data['sex'].map({'F':0, 'I':1, 'M':2})"
   ]
  },
  {
   "cell_type": "code",
   "execution_count": 45,
   "metadata": {},
   "outputs": [],
   "source": [
    "from sklearn.base import TransformerMixin\n",
    "\n",
    "### aux functions\n",
    "\n",
    "class SelectColumns(TransformerMixin):\n",
    "    def __init__(self, columns):\n",
    "        self.columns = columns\n",
    "    def fit(self, X, *y):\n",
    "        return self\n",
    "    def transform(self, X):\n",
    "        return X[[self.columns]].values\n",
    "    \n",
    "class DropColumns(TransformerMixin):\n",
    "    def __init__(self, columns):\n",
    "        self.columns = columns\n",
    "    def fit(self, X, *y):\n",
    "        return self\n",
    "    def transform(self, X):\n",
    "        return X.drop([self.columns], axis=1).values"
   ]
  },
  {
   "cell_type": "markdown",
   "metadata": {},
   "source": [
    "** transformation to one-hot-encode 'sex' feature**"
   ]
  },
  {
   "cell_type": "code",
   "execution_count": 46,
   "metadata": {
    "collapsed": true
   },
   "outputs": [],
   "source": [
    "from sklearn.preprocessing import OneHotEncoder\n",
    "\n",
    "select_col_step = ('select', SelectColumns('sex'))\n",
    "one_hot_step = ('sex_one_hot', OneHotEncoder())\n",
    "cat_pipe_steps = [select_col_step, one_hot_step]\n",
    "cat_pipe = Pipeline(cat_pipe_steps)"
   ]
  },
  {
   "cell_type": "markdown",
   "metadata": {},
   "source": [
    "** transformation of the numeric values by MinMaxScaler **"
   ]
  },
  {
   "cell_type": "code",
   "execution_count": 47,
   "metadata": {},
   "outputs": [],
   "source": [
    "from sklearn.preprocessing import MinMaxScaler\n",
    "\n",
    "drop_column_step = ('drop_column', DropColumns('sex'))\n",
    "poly_step = ('poly', PolynomialFeatures(2,  interaction_only=True))\n",
    "scaler_step = ('scaler', MinMaxScaler())\n",
    "num_pipe_steps = [drop_column_step, poly_step, scaler_step]\n",
    "num_pipe = Pipeline(num_pipe_steps)"
   ]
  },
  {
   "cell_type": "markdown",
   "metadata": {},
   "source": [
    "** Join the two pipes using feature union **"
   ]
  },
  {
   "cell_type": "code",
   "execution_count": 48,
   "metadata": {
    "collapsed": true
   },
   "outputs": [],
   "source": [
    "from sklearn.pipeline import FeatureUnion\n",
    "\n",
    "transformer_list = [('num_pipe', num_pipe),\n",
    "                    ('cat_pipe', cat_pipe)]\n",
    "\n",
    "full_pipe = FeatureUnion(transformer_list=transformer_list)"
   ]
  },
  {
   "cell_type": "code",
   "execution_count": 49,
   "metadata": {},
   "outputs": [],
   "source": [
    "X_train, X_test, y_train, y_test = train_test_split(data.drop('y_rings', axis=1), data.y_rings, test_size=0.2)"
   ]
  },
  {
   "cell_type": "code",
   "execution_count": 50,
   "metadata": {
    "collapsed": true
   },
   "outputs": [],
   "source": [
    "from sklearn.linear_model import LassoCV"
   ]
  },
  {
   "cell_type": "code",
   "execution_count": 51,
   "metadata": {},
   "outputs": [],
   "source": [
    "reg = LassoCV(cv=5, max_iter=10000, alphas=[0.1, 0.01, 0.001, 0.0001])"
   ]
  },
  {
   "cell_type": "code",
   "execution_count": 52,
   "metadata": {
    "collapsed": true
   },
   "outputs": [],
   "source": [
    "X_train_trans = full_pipe.fit_transform(X_train)"
   ]
  },
  {
   "cell_type": "code",
   "execution_count": 53,
   "metadata": {},
   "outputs": [
    {
     "name": "stderr",
     "output_type": "stream",
     "text": [
      "/home/juanito/anaconda3/lib/python3.6/site-packages/sklearn/linear_model/coordinate_descent.py:491: ConvergenceWarning: Objective did not converge. You might want to increase the number of iterations. Fitting data with very small alpha may cause precision problems.\n",
      "  ConvergenceWarning)\n",
      "/home/juanito/anaconda3/lib/python3.6/site-packages/sklearn/linear_model/coordinate_descent.py:491: ConvergenceWarning: Objective did not converge. You might want to increase the number of iterations. Fitting data with very small alpha may cause precision problems.\n",
      "  ConvergenceWarning)\n"
     ]
    },
    {
     "data": {
      "text/plain": [
       "LassoCV(alphas=[0.1, 0.01, 0.001, 0.0001], copy_X=True, cv=5, eps=0.001,\n",
       "    fit_intercept=True, max_iter=10000, n_alphas=100, n_jobs=1,\n",
       "    normalize=False, positive=False, precompute='auto', random_state=None,\n",
       "    selection='cyclic', tol=0.0001, verbose=False)"
      ]
     },
     "execution_count": 53,
     "metadata": {},
     "output_type": "execute_result"
    }
   ],
   "source": [
    "reg.fit(X_train_trans.toarray(), y_train)"
   ]
  },
  {
   "cell_type": "code",
   "execution_count": 54,
   "metadata": {},
   "outputs": [],
   "source": [
    "y_test_pred_pipe = reg.predict(full_pipe.transform(X_test).toarray())"
   ]
  },
  {
   "cell_type": "code",
   "execution_count": 55,
   "metadata": {},
   "outputs": [
    {
     "name": "stdout",
     "output_type": "stream",
     "text": [
      "1.58234325324\n"
     ]
    }
   ],
   "source": [
    "from sklearn.metrics import mean_absolute_error\n",
    "\n",
    "print(mean_absolute_error(y_test, y_test_pred_pipe))"
   ]
  },
  {
   "cell_type": "code",
   "execution_count": 56,
   "metadata": {},
   "outputs": [],
   "source": [
    "bins = y_test.unique().shape[0]"
   ]
  },
  {
   "cell_type": "code",
   "execution_count": 57,
   "metadata": {},
   "outputs": [
    {
     "data": {
      "image/png": "[encoded data removed]",
      "text/plain": [
       "<matplotlib.figure.Figure at 0x7f2d50113470>"
      ]
     },
     "metadata": {},
     "output_type": "display_data"
    }
   ],
   "source": [
    "plt.hist(y_test, alpha=0.5, bins=bins, label='Real')\n",
    "plt.hist(y_test_pred_pipe, alpha=0.5, bins=bins, label='Predicted')\n",
    "plt.xlabel('rings')\n",
    "plt.legend(loc='best')\n",
    "plt.show()"
   ]
  },
  {
   "cell_type": "code",
   "execution_count": 58,
   "metadata": {},
   "outputs": [
    {
     "data": {
      "text/plain": [
       "<matplotlib.collections.PathCollection at 0x7f2d4bd56d68>"
      ]
     },
     "execution_count": 58,
     "metadata": {},
     "output_type": "execute_result"
    },
    {
     "data": {
      "image/png": "[encoded data removed]",
      "text/plain": [
       "<matplotlib.figure.Figure at 0x7f2d5797d2e8>"
      ]
     },
     "metadata": {},
     "output_type": "display_data"
    }
   ],
   "source": [
    "plt.scatter(y_test, y_test_pred_pipe)"
   ]
  },
  {
   "cell_type": "code",
   "execution_count": null,
   "metadata": {
    "collapsed": true
   },
   "outputs": [],
   "source": []
  }
 ],
 "metadata": {
  "kernelspec": {
   "display_name": "Python 3",
   "language": "python",
   "name": "python3"
  },
  "language_info": {
   "codemirror_mode": {
    "name": "ipython",
    "version": 3
   },
   "file_extension": ".py",
   "mimetype": "text/x-python",
   "name": "python",
   "nbconvert_exporter": "python",
   "pygments_lexer": "ipython3",
   "version": "3.6.1"
  }
 },
 "nbformat": 4,
 "nbformat_minor": 2
}
