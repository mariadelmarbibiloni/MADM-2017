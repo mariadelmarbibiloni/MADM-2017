{
 "cells": [
  {
   "cell_type": "markdown",
   "metadata": {},
   "source": [
    "# Movielens\n",
    "---\n",
    "Esta base de datos contiene información sobre películas y ratings de distintos usuarios.\n",
    "Responde a las siguientes preguntas"
   ]
  },
  {
   "cell_type": "markdown",
   "metadata": {},
   "source": [
    "<div class=\"panel panel-danger\">\n",
    "    <div class='panel-heading'>\n",
    "    <h4>Antes de empezar</h4>\n",
    "    </div>\n",
    "    <div class='panel-body'>\n",
    "    <p>Para poder ejecutar queries a la base de datos, necesitamos tener instalado antes el paquete [ipython-sql](https://github.com/catherinedevlin/ipython-sql).\n",
    "    \n",
    "    <p>Este paquete nos permite escribir las queries sql en las celdas del notebook y visualizar el resultado como tablas html renderizadas\n",
    "    <p>Ejecuta `!pip install ipython-sql` si es la primera vez que usas este notebook\n",
    "    </div>\n",
    "</div>"
   ]
  },
  {
   "cell_type": "code",
   "execution_count": 1,
   "metadata": {},
   "outputs": [
    {
     "name": "stdout",
     "output_type": "stream",
     "text": [
      "Requirement already satisfied: ipython-sql in c:\\programdata\\anaconda3\\lib\\site-packages\n",
      "Requirement already satisfied: sqlalchemy>=0.6.7 in c:\\programdata\\anaconda3\\lib\\site-packages (from ipython-sql)\n",
      "Requirement already satisfied: six in c:\\programdata\\anaconda3\\lib\\site-packages (from ipython-sql)\n",
      "Requirement already satisfied: sqlparse in c:\\programdata\\anaconda3\\lib\\site-packages (from ipython-sql)\n",
      "Requirement already satisfied: prettytable in c:\\programdata\\anaconda3\\lib\\site-packages (from ipython-sql)\n",
      "Requirement already satisfied: ipython-genutils>=0.1.0 in c:\\programdata\\anaconda3\\lib\\site-packages (from ipython-sql)\n",
      "Requirement already satisfied: ipython>=1.0 in c:\\programdata\\anaconda3\\lib\\site-packages (from ipython-sql)\n",
      "Requirement already satisfied: setuptools>=18.5 in c:\\programdata\\anaconda3\\lib\\site-packages (from ipython>=1.0->ipython-sql)\n",
      "Requirement already satisfied: jedi>=0.10 in c:\\programdata\\anaconda3\\lib\\site-packages (from ipython>=1.0->ipython-sql)\n",
      "Requirement already satisfied: decorator in c:\\programdata\\anaconda3\\lib\\site-packages (from ipython>=1.0->ipython-sql)\n",
      "Requirement already satisfied: pickleshare in c:\\programdata\\anaconda3\\lib\\site-packages (from ipython>=1.0->ipython-sql)\n",
      "Requirement already satisfied: simplegeneric>0.8 in c:\\programdata\\anaconda3\\lib\\site-packages (from ipython>=1.0->ipython-sql)\n",
      "Requirement already satisfied: traitlets>=4.2 in c:\\programdata\\anaconda3\\lib\\site-packages (from ipython>=1.0->ipython-sql)\n",
      "Requirement already satisfied: prompt_toolkit<2.0.0,>=1.0.4 in c:\\programdata\\anaconda3\\lib\\site-packages (from ipython>=1.0->ipython-sql)\n",
      "Requirement already satisfied: pygments in c:\\programdata\\anaconda3\\lib\\site-packages (from ipython>=1.0->ipython-sql)\n",
      "Requirement already satisfied: colorama in c:\\programdata\\anaconda3\\lib\\site-packages (from ipython>=1.0->ipython-sql)\n",
      "Requirement already satisfied: wcwidth in c:\\programdata\\anaconda3\\lib\\site-packages (from prompt_toolkit<2.0.0,>=1.0.4->ipython>=1.0->ipython-sql)\n"
     ]
    }
   ],
   "source": [
    "!pip install ipython-sql"
   ]
  },
  {
   "cell_type": "markdown",
   "metadata": {},
   "source": [
    "**Cargamos la base de datos ** "
   ]
  },
  {
   "cell_type": "code",
   "execution_count": 1,
   "metadata": {},
   "outputs": [
    {
     "name": "stdout",
     "output_type": "stream",
     "text": [
      "Done.\n"
     ]
    },
    {
     "data": {
      "text/html": [
       "<table>\n",
       "    <tr>\n",
       "        <th>name</th>\n",
       "    </tr>\n",
       "    <tr>\n",
       "        <td>ratings</td>\n",
       "    </tr>\n",
       "    <tr>\n",
       "        <td>links</td>\n",
       "    </tr>\n",
       "    <tr>\n",
       "        <td>tags</td>\n",
       "    </tr>\n",
       "    <tr>\n",
       "        <td>movies</td>\n",
       "    </tr>\n",
       "</table>"
      ],
      "text/plain": [
       "[('ratings',), ('links',), ('tags',), ('movies',)]"
      ]
     },
     "execution_count": 1,
     "metadata": {},
     "output_type": "execute_result"
    }
   ],
   "source": [
    "%load_ext sql\n",
    "%sql sqlite:///data/movies/movielens.sqlite\n",
    "%sql SELECT name FROM sqlite_master WHERE type='table'"
   ]
  },
  {
   "cell_type": "markdown",
   "metadata": {},
   "source": [
    "Antes de empezar, recuerda que para ejecutar una query sql en las celdas de los notebooks, debes empezar la celda por `%%sql`. Por ejemplo..."
   ]
  },
  {
   "cell_type": "code",
   "execution_count": 2,
   "metadata": {},
   "outputs": [
    {
     "name": "stdout",
     "output_type": "stream",
     "text": [
      "Done.\n"
     ]
    },
    {
     "data": {
      "text/html": [
       "<table>\n",
       "    <tr>\n",
       "        <th>num_rows</th>\n",
       "    </tr>\n",
       "    <tr>\n",
       "        <td>9125</td>\n",
       "    </tr>\n",
       "</table>"
      ],
      "text/plain": [
       "[(9125,)]"
      ]
     },
     "execution_count": 2,
     "metadata": {},
     "output_type": "execute_result"
    }
   ],
   "source": [
    "%%sql\n",
    "\n",
    "SELECT count(*) as num_rows\n",
    "FROM movies"
   ]
  },
  {
   "cell_type": "markdown",
   "metadata": {},
   "source": [
    "Recuerda que también puedes realizar queries a la base de datos usango `pandas` y `sqlite3`"
   ]
  },
  {
   "cell_type": "markdown",
   "metadata": {},
   "source": [
    "---\n",
    "<div class=\"panel panel-success\">\n",
    "    <div class='panel-heading'>\n",
    "    <h4>Empecemos</h4>\n",
    "    </div>\n",
    "    <div class='panel-body'>\n",
    "    <p> Responde a las siguientes preguntas de la base de datos\n",
    "    </div>\n",
    "</div>"
   ]
  },
  {
   "cell_type": "markdown",
   "metadata": {},
   "source": [
    "**1. Nombra las columnas de cada tabla en la base de datos e identifíca las *primary* y *foreign* keys **"
   ]
  },
  {
   "cell_type": "markdown",
   "metadata": {},
   "source": [
    "Versió 1. Així també tenim l'_schema_."
   ]
  },
  {
   "cell_type": "code",
   "execution_count": 3,
   "metadata": {},
   "outputs": [
    {
     "name": "stdout",
     "output_type": "stream",
     "text": [
      "Done.\n"
     ]
    },
    {
     "data": {
      "text/html": [
       "<table>\n",
       "    <tr>\n",
       "        <th>name</th>\n",
       "        <th>sql</th>\n",
       "    </tr>\n",
       "    <tr>\n",
       "        <td>ratings</td>\n",
       "        <td>CREATE TABLE &quot;ratings&quot; (<br>&quot;index&quot; INTEGER,<br>  &quot;userId&quot; INTEGER,<br>  &quot;movieId&quot; INTEGER,<br>  &quot;rating&quot; REAL,<br>  &quot;timestamp&quot; TIMESTAMP<br>)</td>\n",
       "    </tr>\n",
       "    <tr>\n",
       "        <td>links</td>\n",
       "        <td>CREATE TABLE &quot;links&quot; (<br>&quot;index&quot; INTEGER,<br>  &quot;movieId&quot; INTEGER,<br>  &quot;imdbId&quot; INTEGER,<br>  &quot;tmdbId&quot; REAL<br>)</td>\n",
       "    </tr>\n",
       "    <tr>\n",
       "        <td>tags</td>\n",
       "        <td>CREATE TABLE &quot;tags&quot; (<br>&quot;index&quot; INTEGER,<br>  &quot;userId&quot; INTEGER,<br>  &quot;movieId&quot; INTEGER,<br>  &quot;tag&quot; TEXT,<br>  &quot;timestamp&quot; TIMESTAMP<br>)</td>\n",
       "    </tr>\n",
       "    <tr>\n",
       "        <td>movies</td>\n",
       "        <td>CREATE TABLE &quot;movies&quot; (<br>&quot;index&quot; INTEGER,<br>  &quot;movieId&quot; INTEGER,<br>  &quot;title&quot; TEXT,<br>  &quot;genres&quot; TEXT<br>)</td>\n",
       "    </tr>\n",
       "</table>"
      ],
      "text/plain": [
       "[('ratings', 'CREATE TABLE \"ratings\" (\\n\"index\" INTEGER,\\n  \"userId\" INTEGER,\\n  \"movieId\" INTEGER,\\n  \"rating\" REAL,\\n  \"timestamp\" TIMESTAMP\\n)'),\n",
       " ('links', 'CREATE TABLE \"links\" (\\n\"index\" INTEGER,\\n  \"movieId\" INTEGER,\\n  \"imdbId\" INTEGER,\\n  \"tmdbId\" REAL\\n)'),\n",
       " ('tags', 'CREATE TABLE \"tags\" (\\n\"index\" INTEGER,\\n  \"userId\" INTEGER,\\n  \"movieId\" INTEGER,\\n  \"tag\" TEXT,\\n  \"timestamp\" TIMESTAMP\\n)'),\n",
       " ('movies', 'CREATE TABLE \"movies\" (\\n\"index\" INTEGER,\\n  \"movieId\" INTEGER,\\n  \"title\" TEXT,\\n  \"genres\" TEXT\\n)')]"
      ]
     },
     "execution_count": 3,
     "metadata": {},
     "output_type": "execute_result"
    }
   ],
   "source": [
    "%%sql\n",
    "SELECT name, sql\n",
    "FROM sqlite_master \n",
    "WHERE type='table'"
   ]
  },
  {
   "cell_type": "markdown",
   "metadata": {},
   "source": [
    "Versió 2. Pas a pas."
   ]
  },
  {
   "cell_type": "code",
   "execution_count": 4,
   "metadata": {},
   "outputs": [
    {
     "name": "stdout",
     "output_type": "stream",
     "text": [
      "Done.\n"
     ]
    },
    {
     "data": {
      "text/html": [
       "<table>\n",
       "    <tr>\n",
       "        <th>index</th>\n",
       "        <th>userId</th>\n",
       "        <th>movieId</th>\n",
       "        <th>rating</th>\n",
       "        <th>timestamp</th>\n",
       "    </tr>\n",
       "</table>"
      ],
      "text/plain": [
       "[]"
      ]
     },
     "execution_count": 4,
     "metadata": {},
     "output_type": "execute_result"
    }
   ],
   "source": [
    "%sql SELECT * FROM ratings LIMIT 0"
   ]
  },
  {
   "cell_type": "markdown",
   "metadata": {},
   "source": [
    "Primary key: rating."
   ]
  },
  {
   "cell_type": "code",
   "execution_count": 5,
   "metadata": {},
   "outputs": [
    {
     "name": "stdout",
     "output_type": "stream",
     "text": [
      "Done.\n"
     ]
    },
    {
     "data": {
      "text/html": [
       "<table>\n",
       "    <tr>\n",
       "        <th>index</th>\n",
       "        <th>movieId</th>\n",
       "        <th>imdbId</th>\n",
       "        <th>tmdbId</th>\n",
       "    </tr>\n",
       "</table>"
      ],
      "text/plain": [
       "[]"
      ]
     },
     "execution_count": 5,
     "metadata": {},
     "output_type": "execute_result"
    }
   ],
   "source": [
    "%sql SELECT * FROM links LIMIT 0"
   ]
  },
  {
   "cell_type": "markdown",
   "metadata": {},
   "source": [
    "Primary key: ?"
   ]
  },
  {
   "cell_type": "code",
   "execution_count": 6,
   "metadata": {},
   "outputs": [
    {
     "name": "stdout",
     "output_type": "stream",
     "text": [
      "Done.\n"
     ]
    },
    {
     "data": {
      "text/html": [
       "<table>\n",
       "    <tr>\n",
       "        <th>index</th>\n",
       "        <th>userId</th>\n",
       "        <th>movieId</th>\n",
       "        <th>tag</th>\n",
       "        <th>timestamp</th>\n",
       "    </tr>\n",
       "</table>"
      ],
      "text/plain": [
       "[]"
      ]
     },
     "execution_count": 6,
     "metadata": {},
     "output_type": "execute_result"
    }
   ],
   "source": [
    "%sql SELECT * FROM tags LIMIT 0"
   ]
  },
  {
   "cell_type": "markdown",
   "metadata": {},
   "source": [
    "Primary key: tag."
   ]
  },
  {
   "cell_type": "code",
   "execution_count": 7,
   "metadata": {},
   "outputs": [
    {
     "name": "stdout",
     "output_type": "stream",
     "text": [
      "Done.\n"
     ]
    },
    {
     "data": {
      "text/html": [
       "<table>\n",
       "    <tr>\n",
       "        <th>index</th>\n",
       "        <th>movieId</th>\n",
       "        <th>title</th>\n",
       "        <th>genres</th>\n",
       "    </tr>\n",
       "</table>"
      ],
      "text/plain": [
       "[]"
      ]
     },
     "execution_count": 7,
     "metadata": {},
     "output_type": "execute_result"
    }
   ],
   "source": [
    "%sql SELECT * FROM movies LIMIT 0"
   ]
  },
  {
   "cell_type": "markdown",
   "metadata": {},
   "source": [
    "Primary key: movieId."
   ]
  },
  {
   "cell_type": "markdown",
   "metadata": {},
   "source": [
    "**2. ¿Cómo evolucion el rating de '12 Angry Men' a lo largo de los años? Haz un gráfico de la evolución**"
   ]
  },
  {
   "cell_type": "code",
   "execution_count": 8,
   "metadata": {
    "scrolled": true
   },
   "outputs": [
    {
     "name": "stdout",
     "output_type": "stream",
     "text": [
      "Done.\n"
     ]
    },
    {
     "data": {
      "text/html": [
       "<table>\n",
       "    <tr>\n",
       "        <th>movieId</th>\n",
       "        <th>title</th>\n",
       "    </tr>\n",
       "    <tr>\n",
       "        <td>1203</td>\n",
       "        <td>12 Angry Men (1957)</td>\n",
       "    </tr>\n",
       "    <tr>\n",
       "        <td>77846</td>\n",
       "        <td>12 Angry Men (1997)</td>\n",
       "    </tr>\n",
       "</table>"
      ],
      "text/plain": [
       "[(1203, '12 Angry Men (1957)'), (77846, '12 Angry Men (1997)')]"
      ]
     },
     "execution_count": 8,
     "metadata": {},
     "output_type": "execute_result"
    }
   ],
   "source": [
    "%%sql\n",
    "SELECT movieId, title\n",
    "FROM movies\n",
    "WHERE title LIKE('%12 Angry Men%')"
   ]
  },
  {
   "cell_type": "code",
   "execution_count": 9,
   "metadata": {},
   "outputs": [
    {
     "data": {
      "text/html": [
       "<div>\n",
       "<style>\n",
       "    .dataframe thead tr:only-child th {\n",
       "        text-align: right;\n",
       "    }\n",
       "\n",
       "    .dataframe thead th {\n",
       "        text-align: left;\n",
       "    }\n",
       "\n",
       "    .dataframe tbody tr th {\n",
       "        vertical-align: top;\n",
       "    }\n",
       "</style>\n",
       "<table border=\"1\" class=\"dataframe\">\n",
       "  <thead>\n",
       "    <tr style=\"text-align: right;\">\n",
       "      <th></th>\n",
       "      <th>movieId</th>\n",
       "      <th>rating</th>\n",
       "      <th>timestamp</th>\n",
       "    </tr>\n",
       "  </thead>\n",
       "  <tbody>\n",
       "    <tr>\n",
       "      <th>73</th>\n",
       "      <td>1203</td>\n",
       "      <td>4.0</td>\n",
       "      <td>2008-04-15 22:17:18</td>\n",
       "    </tr>\n",
       "    <tr>\n",
       "      <th>74</th>\n",
       "      <td>1203</td>\n",
       "      <td>4.0</td>\n",
       "      <td>2001-10-16 17:42:27</td>\n",
       "    </tr>\n",
       "    <tr>\n",
       "      <th>75</th>\n",
       "      <td>77846</td>\n",
       "      <td>4.0</td>\n",
       "      <td>2013-01-09 09:55:13</td>\n",
       "    </tr>\n",
       "    <tr>\n",
       "      <th>76</th>\n",
       "      <td>1203</td>\n",
       "      <td>4.5</td>\n",
       "      <td>2012-07-24 15:10:17</td>\n",
       "    </tr>\n",
       "    <tr>\n",
       "      <th>77</th>\n",
       "      <td>1203</td>\n",
       "      <td>5.0</td>\n",
       "      <td>2001-04-02 20:10:41</td>\n",
       "    </tr>\n",
       "  </tbody>\n",
       "</table>\n",
       "</div>"
      ],
      "text/plain": [
       "    movieId  rating            timestamp\n",
       "73     1203     4.0  2008-04-15 22:17:18\n",
       "74     1203     4.0  2001-10-16 17:42:27\n",
       "75    77846     4.0  2013-01-09 09:55:13\n",
       "76     1203     4.5  2012-07-24 15:10:17\n",
       "77     1203     5.0  2001-04-02 20:10:41"
      ]
     },
     "execution_count": 9,
     "metadata": {},
     "output_type": "execute_result"
    }
   ],
   "source": [
    "import pandas as pd\n",
    "import sqlite3\n",
    "\n",
    "conn = sqlite3.connect('data/movies/movielens.sqlite')\n",
    "\n",
    "query = \"\"\"\n",
    "SELECT movieId,\n",
    "       rating, \n",
    "       timestamp\n",
    "FROM ratings\n",
    "WHERE movieId= (SELECT movieId\n",
    "                  FROM movies\n",
    "                  WHERE title LIKE('%12 Angry Men%')\n",
    "                  LIMIT 1) \n",
    "    OR movieId= (SELECT movieId\n",
    "                  FROM movies\n",
    "                  WHERE title LIKE('%12 Angry Men%')\n",
    "                  LIMIT 1 OFFSET 1) \n",
    "\"\"\"\n",
    "\n",
    "AM_rating = pd.read_sql(query, conn)\n",
    "AM_rating.tail()"
   ]
  },
  {
   "cell_type": "code",
   "execution_count": 10,
   "metadata": {},
   "outputs": [
    {
     "data": {
      "text/html": [
       "<div>\n",
       "<style>\n",
       "    .dataframe thead tr:only-child th {\n",
       "        text-align: right;\n",
       "    }\n",
       "\n",
       "    .dataframe thead th {\n",
       "        text-align: left;\n",
       "    }\n",
       "\n",
       "    .dataframe tbody tr th {\n",
       "        vertical-align: top;\n",
       "    }\n",
       "</style>\n",
       "<table border=\"1\" class=\"dataframe\">\n",
       "  <thead>\n",
       "    <tr style=\"text-align: right;\">\n",
       "      <th></th>\n",
       "      <th>movieId</th>\n",
       "      <th>rating</th>\n",
       "    </tr>\n",
       "    <tr>\n",
       "      <th>timestamp</th>\n",
       "      <th></th>\n",
       "      <th></th>\n",
       "    </tr>\n",
       "  </thead>\n",
       "  <tbody>\n",
       "    <tr>\n",
       "      <th>1996-12-16 09:13:53</th>\n",
       "      <td>1203</td>\n",
       "      <td>4.0</td>\n",
       "    </tr>\n",
       "    <tr>\n",
       "      <th>1997-01-21 12:46:31</th>\n",
       "      <td>1203</td>\n",
       "      <td>4.0</td>\n",
       "    </tr>\n",
       "    <tr>\n",
       "      <th>1997-01-22 00:48:20</th>\n",
       "      <td>1203</td>\n",
       "      <td>5.0</td>\n",
       "    </tr>\n",
       "    <tr>\n",
       "      <th>1997-02-06 01:15:02</th>\n",
       "      <td>1203</td>\n",
       "      <td>4.0</td>\n",
       "    </tr>\n",
       "    <tr>\n",
       "      <th>1997-04-09 04:44:43</th>\n",
       "      <td>1203</td>\n",
       "      <td>4.0</td>\n",
       "    </tr>\n",
       "  </tbody>\n",
       "</table>\n",
       "</div>"
      ],
      "text/plain": [
       "                     movieId  rating\n",
       "timestamp                           \n",
       "1996-12-16 09:13:53     1203     4.0\n",
       "1997-01-21 12:46:31     1203     4.0\n",
       "1997-01-22 00:48:20     1203     5.0\n",
       "1997-02-06 01:15:02     1203     4.0\n",
       "1997-04-09 04:44:43     1203     4.0"
      ]
     },
     "execution_count": 10,
     "metadata": {},
     "output_type": "execute_result"
    }
   ],
   "source": [
    "AM_rating['timestamp'] = pd.to_datetime(AM_rating['timestamp'])\n",
    "AM_rating = AM_rating.set_index(AM_rating['timestamp'])\n",
    "AM_rating  = AM_rating.drop('timestamp', axis=1)\n",
    "AM_rating = AM_rating.sort_index()\n",
    "AM_rating.head()"
   ]
  },
  {
   "cell_type": "code",
   "execution_count": 11,
   "metadata": {},
   "outputs": [
    {
     "data": {
      "text/plain": [
       "<matplotlib.axes._subplots.AxesSubplot at 0x1da213a0908>"
      ]
     },
     "execution_count": 11,
     "metadata": {},
     "output_type": "execute_result"
    },
    {
     "data": {
      "image/png": "[encoded data removed]",
      "text/plain": [
       "<matplotlib.figure.Figure at 0x1da1fbf97f0>"
      ]
     },
     "metadata": {},
     "output_type": "display_data"
    }
   ],
   "source": [
    "%matplotlib inline\n",
    "import matplotlib.pyplot as plt\n",
    "AM_rating['rating'].plot()"
   ]
  },
  {
   "cell_type": "markdown",
   "metadata": {},
   "source": [
    "** 3. ¿Cuál es la película peor valorada de cada año? **"
   ]
  },
  {
   "cell_type": "markdown",
   "metadata": {},
   "source": [
    "Prova amb un any. <br>\n",
    "ALERTA! Al posar Limit 1, si el menor rating està repetit ens quedarem només amb una pel·lícula."
   ]
  },
  {
   "cell_type": "code",
   "execution_count": 12,
   "metadata": {},
   "outputs": [
    {
     "name": "stdout",
     "output_type": "stream",
     "text": [
      "Done.\n"
     ]
    },
    {
     "data": {
      "text/html": [
       "<table>\n",
       "    <tr>\n",
       "        <th>movieId</th>\n",
       "        <th>title</th>\n",
       "        <th>avg_rating</th>\n",
       "        <th>year</th>\n",
       "    </tr>\n",
       "    <tr>\n",
       "        <td>15</td>\n",
       "        <td>Cutthroat Island (1995)</td>\n",
       "        <td>1.0</td>\n",
       "        <td>2000</td>\n",
       "    </tr>\n",
       "</table>"
      ],
      "text/plain": [
       "[(15, 'Cutthroat Island (1995)', 1.0, '2000')]"
      ]
     },
     "execution_count": 12,
     "metadata": {},
     "output_type": "execute_result"
    }
   ],
   "source": [
    "%%sql\n",
    "SELECT r.movieId,\n",
    "        m.title,\n",
    "        AVG(r.rating) as avg_rating,\n",
    "        strftime('%Y',timestamp) as year\n",
    "FROM ratings as r\n",
    "INNER JOIN movies as m\n",
    "ON r.movieId = m.movieId\n",
    "WHERE year='2000'\n",
    "GROUP BY r.movieId\n",
    "ORDER BY avg_rating ASC\n",
    "LIMIT 1"
   ]
  },
  {
   "cell_type": "code",
   "execution_count": 13,
   "metadata": {
    "collapsed": true
   },
   "outputs": [],
   "source": [
    "query_years = \"\"\"\n",
    "SELECT DISTINCT(strftime('%Y',timestamp)) as year\n",
    "FROM ratings\n",
    "ORDER BY strftime('%Y',timestamp) ASC\n",
    "\"\"\"\n",
    "years_unique = pd.read_sql(query_years, conn)"
   ]
  },
  {
   "cell_type": "code",
   "execution_count": 14,
   "metadata": {},
   "outputs": [
    {
     "data": {
      "text/html": [
       "<div>\n",
       "<style>\n",
       "    .dataframe thead tr:only-child th {\n",
       "        text-align: right;\n",
       "    }\n",
       "\n",
       "    .dataframe thead th {\n",
       "        text-align: left;\n",
       "    }\n",
       "\n",
       "    .dataframe tbody tr th {\n",
       "        vertical-align: top;\n",
       "    }\n",
       "</style>\n",
       "<table border=\"1\" class=\"dataframe\">\n",
       "  <thead>\n",
       "    <tr style=\"text-align: right;\">\n",
       "      <th></th>\n",
       "      <th>movieId</th>\n",
       "      <th>title</th>\n",
       "      <th>avg_rating</th>\n",
       "      <th>time_year</th>\n",
       "    </tr>\n",
       "  </thead>\n",
       "  <tbody>\n",
       "    <tr>\n",
       "      <th>0</th>\n",
       "      <td>21</td>\n",
       "      <td>Get Shorty (1995)</td>\n",
       "      <td>3.0</td>\n",
       "      <td>1995</td>\n",
       "    </tr>\n",
       "    <tr>\n",
       "      <th>0</th>\n",
       "      <td>42</td>\n",
       "      <td>Dead Presidents (1995)</td>\n",
       "      <td>1.0</td>\n",
       "      <td>1996</td>\n",
       "    </tr>\n",
       "    <tr>\n",
       "      <th>0</th>\n",
       "      <td>24</td>\n",
       "      <td>Powder (1995)</td>\n",
       "      <td>1.0</td>\n",
       "      <td>1997</td>\n",
       "    </tr>\n",
       "    <tr>\n",
       "      <th>0</th>\n",
       "      <td>66</td>\n",
       "      <td>Lawnmower Man 2: Beyond Cyberspace (1996)</td>\n",
       "      <td>1.0</td>\n",
       "      <td>1998</td>\n",
       "    </tr>\n",
       "    <tr>\n",
       "      <th>0</th>\n",
       "      <td>4</td>\n",
       "      <td>Waiting to Exhale (1995)</td>\n",
       "      <td>1.0</td>\n",
       "      <td>1999</td>\n",
       "    </tr>\n",
       "    <tr>\n",
       "      <th>0</th>\n",
       "      <td>15</td>\n",
       "      <td>Cutthroat Island (1995)</td>\n",
       "      <td>1.0</td>\n",
       "      <td>2000</td>\n",
       "    </tr>\n",
       "    <tr>\n",
       "      <th>0</th>\n",
       "      <td>8</td>\n",
       "      <td>Tom and Huck (1995)</td>\n",
       "      <td>1.0</td>\n",
       "      <td>2001</td>\n",
       "    </tr>\n",
       "    <tr>\n",
       "      <th>0</th>\n",
       "      <td>65</td>\n",
       "      <td>Bio-Dome (1996)</td>\n",
       "      <td>1.0</td>\n",
       "      <td>2002</td>\n",
       "    </tr>\n",
       "    <tr>\n",
       "      <th>0</th>\n",
       "      <td>102</td>\n",
       "      <td>Mr. Wrong (1996)</td>\n",
       "      <td>0.5</td>\n",
       "      <td>2003</td>\n",
       "    </tr>\n",
       "    <tr>\n",
       "      <th>0</th>\n",
       "      <td>71</td>\n",
       "      <td>Fair Game (1995)</td>\n",
       "      <td>0.5</td>\n",
       "      <td>2004</td>\n",
       "    </tr>\n",
       "    <tr>\n",
       "      <th>0</th>\n",
       "      <td>279</td>\n",
       "      <td>My Family (1995)</td>\n",
       "      <td>0.5</td>\n",
       "      <td>2005</td>\n",
       "    </tr>\n",
       "    <tr>\n",
       "      <th>0</th>\n",
       "      <td>383</td>\n",
       "      <td>Wyatt Earp (1994)</td>\n",
       "      <td>0.5</td>\n",
       "      <td>2006</td>\n",
       "    </tr>\n",
       "    <tr>\n",
       "      <th>0</th>\n",
       "      <td>7</td>\n",
       "      <td>Sabrina (1995)</td>\n",
       "      <td>0.5</td>\n",
       "      <td>2007</td>\n",
       "    </tr>\n",
       "    <tr>\n",
       "      <th>0</th>\n",
       "      <td>420</td>\n",
       "      <td>Beverly Hills Cop III (1994)</td>\n",
       "      <td>0.5</td>\n",
       "      <td>2008</td>\n",
       "    </tr>\n",
       "    <tr>\n",
       "      <th>0</th>\n",
       "      <td>510</td>\n",
       "      <td>Poetic Justice (1993)</td>\n",
       "      <td>0.5</td>\n",
       "      <td>2009</td>\n",
       "    </tr>\n",
       "    <tr>\n",
       "      <th>0</th>\n",
       "      <td>585</td>\n",
       "      <td>Brady Bunch Movie, The (1995)</td>\n",
       "      <td>0.5</td>\n",
       "      <td>2010</td>\n",
       "    </tr>\n",
       "    <tr>\n",
       "      <th>0</th>\n",
       "      <td>65</td>\n",
       "      <td>Bio-Dome (1996)</td>\n",
       "      <td>0.5</td>\n",
       "      <td>2011</td>\n",
       "    </tr>\n",
       "    <tr>\n",
       "      <th>0</th>\n",
       "      <td>63</td>\n",
       "      <td>Don't Be a Menace to South Central While Drink...</td>\n",
       "      <td>0.5</td>\n",
       "      <td>2012</td>\n",
       "    </tr>\n",
       "    <tr>\n",
       "      <th>0</th>\n",
       "      <td>2810</td>\n",
       "      <td>Perfect Blue (1997)</td>\n",
       "      <td>0.5</td>\n",
       "      <td>2013</td>\n",
       "    </tr>\n",
       "    <tr>\n",
       "      <th>0</th>\n",
       "      <td>153</td>\n",
       "      <td>Batman Forever (1995)</td>\n",
       "      <td>0.5</td>\n",
       "      <td>2014</td>\n",
       "    </tr>\n",
       "    <tr>\n",
       "      <th>0</th>\n",
       "      <td>2548</td>\n",
       "      <td>Rage: Carrie 2, The (1999)</td>\n",
       "      <td>0.5</td>\n",
       "      <td>2015</td>\n",
       "    </tr>\n",
       "    <tr>\n",
       "      <th>0</th>\n",
       "      <td>256</td>\n",
       "      <td>Junior (1994)</td>\n",
       "      <td>0.5</td>\n",
       "      <td>2016</td>\n",
       "    </tr>\n",
       "  </tbody>\n",
       "</table>\n",
       "</div>"
      ],
      "text/plain": [
       "   movieId                                              title  avg_rating  \\\n",
       "0       21                                  Get Shorty (1995)         3.0   \n",
       "0       42                             Dead Presidents (1995)         1.0   \n",
       "0       24                                      Powder (1995)         1.0   \n",
       "0       66          Lawnmower Man 2: Beyond Cyberspace (1996)         1.0   \n",
       "0        4                           Waiting to Exhale (1995)         1.0   \n",
       "0       15                            Cutthroat Island (1995)         1.0   \n",
       "0        8                                Tom and Huck (1995)         1.0   \n",
       "0       65                                    Bio-Dome (1996)         1.0   \n",
       "0      102                                   Mr. Wrong (1996)         0.5   \n",
       "0       71                                   Fair Game (1995)         0.5   \n",
       "0      279                                   My Family (1995)         0.5   \n",
       "0      383                                  Wyatt Earp (1994)         0.5   \n",
       "0        7                                     Sabrina (1995)         0.5   \n",
       "0      420                       Beverly Hills Cop III (1994)         0.5   \n",
       "0      510                              Poetic Justice (1993)         0.5   \n",
       "0      585                      Brady Bunch Movie, The (1995)         0.5   \n",
       "0       65                                    Bio-Dome (1996)         0.5   \n",
       "0       63  Don't Be a Menace to South Central While Drink...         0.5   \n",
       "0     2810                                Perfect Blue (1997)         0.5   \n",
       "0      153                              Batman Forever (1995)         0.5   \n",
       "0     2548                         Rage: Carrie 2, The (1999)         0.5   \n",
       "0      256                                      Junior (1994)         0.5   \n",
       "\n",
       "  time_year  \n",
       "0      1995  \n",
       "0      1996  \n",
       "0      1997  \n",
       "0      1998  \n",
       "0      1999  \n",
       "0      2000  \n",
       "0      2001  \n",
       "0      2002  \n",
       "0      2003  \n",
       "0      2004  \n",
       "0      2005  \n",
       "0      2006  \n",
       "0      2007  \n",
       "0      2008  \n",
       "0      2009  \n",
       "0      2010  \n",
       "0      2011  \n",
       "0      2012  \n",
       "0      2013  \n",
       "0      2014  \n",
       "0      2015  \n",
       "0      2016  "
      ]
     },
     "execution_count": 14,
     "metadata": {},
     "output_type": "execute_result"
    }
   ],
   "source": [
    "list_df = []\n",
    "for year in years_unique['year'].values:\n",
    "    query = \"\"\"\n",
    "            SELECT r.movieId,\n",
    "                    m.title,\n",
    "                    AVG(r.rating) as avg_rating,\n",
    "                    strftime('%Y',timestamp) as time_year\n",
    "            FROM ratings as r\n",
    "            INNER JOIN movies as m\n",
    "            ON r.movieId = m.movieId\n",
    "            WHERE time_year='{y}'\n",
    "            GROUP BY r.movieId\n",
    "            ORDER BY avg_rating ASC\n",
    "            LIMIT 1\n",
    "            \"\"\".format(y=year)\n",
    "    df = pd.read_sql(query, conn)\n",
    "    list_df.append(df)\n",
    "    \n",
    "pd.concat(list_df)"
   ]
  },
  {
   "cell_type": "markdown",
   "metadata": {},
   "source": [
    "** 4. ¿Quién es el usuario más activo y desde cuándo lleva activo? **"
   ]
  },
  {
   "cell_type": "code",
   "execution_count": 15,
   "metadata": {},
   "outputs": [
    {
     "name": "stdout",
     "output_type": "stream",
     "text": [
      "Done.\n"
     ]
    },
    {
     "data": {
      "text/html": [
       "<table>\n",
       "    <tr>\n",
       "        <th>userId</th>\n",
       "        <th>num_active</th>\n",
       "    </tr>\n",
       "    <tr>\n",
       "        <td>547</td>\n",
       "        <td>2391</td>\n",
       "    </tr>\n",
       "</table>"
      ],
      "text/plain": [
       "[(547, 2391)]"
      ]
     },
     "execution_count": 15,
     "metadata": {},
     "output_type": "execute_result"
    }
   ],
   "source": [
    "%%sql\n",
    "SELECT userId,\n",
    "        COUNT(*) as num_active\n",
    "FROM ratings\n",
    "GROUP BY UserId\n",
    "ORDER BY num_active DESC\n",
    "LIMIT 1"
   ]
  },
  {
   "cell_type": "markdown",
   "metadata": {},
   "source": [
    "** 5. ¿Cuales son sus 5 películas favorítas del año 2016? **"
   ]
  },
  {
   "cell_type": "markdown",
   "metadata": {},
   "source": [
    "Com seleccionar usuari:"
   ]
  },
  {
   "cell_type": "code",
   "execution_count": 16,
   "metadata": {},
   "outputs": [
    {
     "name": "stdout",
     "output_type": "stream",
     "text": [
      "Done.\n"
     ]
    },
    {
     "data": {
      "text/html": [
       "<table>\n",
       "    <tr>\n",
       "        <th>userId</th>\n",
       "    </tr>\n",
       "    <tr>\n",
       "        <td>547</td>\n",
       "    </tr>\n",
       "</table>"
      ],
      "text/plain": [
       "[(547,)]"
      ]
     },
     "execution_count": 16,
     "metadata": {},
     "output_type": "execute_result"
    }
   ],
   "source": [
    "%%sql\n",
    "SELECT userId\n",
    "FROM ratings\n",
    "GROUP BY UserId\n",
    "ORDER BY COUNT(*) DESC\n",
    "LIMIT 1"
   ]
  },
  {
   "cell_type": "markdown",
   "metadata": {},
   "source": [
    "Tot junt."
   ]
  },
  {
   "cell_type": "code",
   "execution_count": 17,
   "metadata": {
    "scrolled": false
   },
   "outputs": [
    {
     "name": "stdout",
     "output_type": "stream",
     "text": [
      "Done.\n"
     ]
    },
    {
     "data": {
      "text/html": [
       "<table>\n",
       "    <tr>\n",
       "        <th>title</th>\n",
       "        <th>rating</th>\n",
       "        <th>timestamp</th>\n",
       "    </tr>\n",
       "    <tr>\n",
       "        <td>Making a Murderer (2015)</td>\n",
       "        <td>5.0</td>\n",
       "        <td>2016-02-02 17:03:02</td>\n",
       "    </tr>\n",
       "    <tr>\n",
       "        <td>The Beatles: Eight Days a Week - The Touring Years (2016)</td>\n",
       "        <td>5.0</td>\n",
       "        <td>2016-10-14 04:27:19</td>\n",
       "    </tr>\n",
       "    <tr>\n",
       "        <td>Lust, Caution (Se, jie) (2007)</td>\n",
       "        <td>4.5</td>\n",
       "        <td>2016-08-30 15:10:39</td>\n",
       "    </tr>\n",
       "    <tr>\n",
       "        <td>Impossible, The (Imposible, Lo) (2012)</td>\n",
       "        <td>4.5</td>\n",
       "        <td>2016-03-12 14:28:34</td>\n",
       "    </tr>\n",
       "    <tr>\n",
       "        <td>Ex Machina (2015)</td>\n",
       "        <td>4.5</td>\n",
       "        <td>2016-01-28 17:08:05</td>\n",
       "    </tr>\n",
       "</table>"
      ],
      "text/plain": [
       "[('Making a Murderer (2015)', 5.0, '2016-02-02 17:03:02'),\n",
       " ('The Beatles: Eight Days a Week - The Touring Years (2016)', 5.0, '2016-10-14 04:27:19'),\n",
       " ('Lust, Caution (Se, jie) (2007)', 4.5, '2016-08-30 15:10:39'),\n",
       " ('Impossible, The (Imposible, Lo) (2012)', 4.5, '2016-03-12 14:28:34'),\n",
       " ('Ex Machina (2015)', 4.5, '2016-01-28 17:08:05')]"
      ]
     },
     "execution_count": 17,
     "metadata": {},
     "output_type": "execute_result"
    }
   ],
   "source": [
    "%%sql\n",
    "SELECT m.title,\n",
    "        r.rating,\n",
    "        r.timestamp\n",
    "FROM ratings as r\n",
    "INNER JOIN movies as m \n",
    "ON r.movieId = m.movieId\n",
    "WHERE r.userId= ( SELECT userId\n",
    "                    FROM ratings\n",
    "                    GROUP BY UserId\n",
    "                    ORDER BY COUNT(*) DESC\n",
    "                    LIMIT 1)\n",
    "      AND strftime('%Y',r.timestamp)='2016'\n",
    "ORDER BY r.rating DESC\n",
    "LIMIT 5"
   ]
  },
  {
   "cell_type": "markdown",
   "metadata": {},
   "source": [
    "**6. Haz una gráfica de como evolucionan el número de películas que ve cada año y la nota media. **"
   ]
  },
  {
   "cell_type": "code",
   "execution_count": 18,
   "metadata": {},
   "outputs": [
    {
     "data": {
      "text/html": [
       "<div>\n",
       "<style>\n",
       "    .dataframe thead tr:only-child th {\n",
       "        text-align: right;\n",
       "    }\n",
       "\n",
       "    .dataframe thead th {\n",
       "        text-align: left;\n",
       "    }\n",
       "\n",
       "    .dataframe tbody tr th {\n",
       "        vertical-align: top;\n",
       "    }\n",
       "</style>\n",
       "<table border=\"1\" class=\"dataframe\">\n",
       "  <thead>\n",
       "    <tr style=\"text-align: right;\">\n",
       "      <th></th>\n",
       "      <th>avg_rating</th>\n",
       "      <th>number_films</th>\n",
       "    </tr>\n",
       "    <tr>\n",
       "      <th>year</th>\n",
       "      <th></th>\n",
       "      <th></th>\n",
       "    </tr>\n",
       "  </thead>\n",
       "  <tbody>\n",
       "    <tr>\n",
       "      <th>2000</th>\n",
       "      <td>4.080189</td>\n",
       "      <td>212</td>\n",
       "    </tr>\n",
       "    <tr>\n",
       "      <th>2001</th>\n",
       "      <td>3.237500</td>\n",
       "      <td>240</td>\n",
       "    </tr>\n",
       "    <tr>\n",
       "      <th>2002</th>\n",
       "      <td>3.018587</td>\n",
       "      <td>269</td>\n",
       "    </tr>\n",
       "    <tr>\n",
       "      <th>2003</th>\n",
       "      <td>3.242525</td>\n",
       "      <td>301</td>\n",
       "    </tr>\n",
       "    <tr>\n",
       "      <th>2004</th>\n",
       "      <td>2.985149</td>\n",
       "      <td>202</td>\n",
       "    </tr>\n",
       "  </tbody>\n",
       "</table>\n",
       "</div>"
      ],
      "text/plain": [
       "      avg_rating  number_films\n",
       "year                          \n",
       "2000    4.080189           212\n",
       "2001    3.237500           240\n",
       "2002    3.018587           269\n",
       "2003    3.242525           301\n",
       "2004    2.985149           202"
      ]
     },
     "execution_count": 18,
     "metadata": {},
     "output_type": "execute_result"
    }
   ],
   "source": [
    "query = \"\"\"\n",
    "SELECT strftime('%Y',timestamp) as year,\n",
    "        AVG(rating) as avg_rating, \n",
    "        COUNT(DISTINCT movieId) as number_films\n",
    "FROM ratings\n",
    "WHERE userId= ( SELECT userId\n",
    "                    FROM ratings\n",
    "                    GROUP BY UserId\n",
    "                    ORDER BY COUNT(*) DESC\n",
    "                    LIMIT 1)\n",
    "GROUP BY year\n",
    "\"\"\"\n",
    "activeUser = pd.read_sql(query, conn)\n",
    "activeUser = activeUser.set_index(activeUser['year'])\n",
    "activeUser  = activeUser.drop('year', axis=1)\n",
    "activeUser = activeUser.sort_index()\n",
    "activeUser.head()"
   ]
  },
  {
   "cell_type": "code",
   "execution_count": 19,
   "metadata": {},
   "outputs": [
    {
     "data": {
      "text/plain": [
       "<matplotlib.axes._subplots.AxesSubplot at 0x1da215bf400>"
      ]
     },
     "execution_count": 19,
     "metadata": {},
     "output_type": "execute_result"
    },
    {
     "data": {
      "image/png": "[encoded data removed]",
      "text/plain": [
       "<matplotlib.figure.Figure at 0x1da215cf198>"
      ]
     },
     "metadata": {},
     "output_type": "display_data"
    }
   ],
   "source": [
    "activeUser.plot()"
   ]
  },
  {
   "cell_type": "code",
   "execution_count": 28,
   "metadata": {},
   "outputs": [
    {
     "data": {
      "text/plain": [
       "<matplotlib.axes._subplots.AxesSubplot at 0x1da22a37c18>"
      ]
     },
     "execution_count": 28,
     "metadata": {},
     "output_type": "execute_result"
    },
    {
     "data": {
      "image/png": "[encoded data removed]",
      "text/plain": [
       "<matplotlib.figure.Figure at 0x1da228e1978>"
      ]
     },
     "metadata": {},
     "output_type": "display_data"
    }
   ],
   "source": [
    "#nrows=2, ncols=1, plot_number=1\n",
    "plt.figure(figsize=(15,5))\n",
    "\n",
    "plt.subplot(121)\n",
    "activeUser['avg_rating'].plot()\n",
    "\n",
    "plt.subplot(122)\n",
    "activeUser['number_films'].plot()\n"
   ]
  },
  {
   "cell_type": "code",
   "execution_count": null,
   "metadata": {
    "collapsed": true
   },
   "outputs": [],
   "source": []
  }
 ],
 "metadata": {
  "kernelspec": {
   "display_name": "Python 3",
   "language": "python",
   "name": "python3"
  },
  "language_info": {
   "codemirror_mode": {
    "name": "ipython",
    "version": 3
   },
   "file_extension": ".py",
   "mimetype": "text/x-python",
   "name": "python",
   "nbconvert_exporter": "python",
   "pygments_lexer": "ipython3",
   "version": "3.6.2"
  }
 },
 "nbformat": 4,
 "nbformat_minor": 2
}
