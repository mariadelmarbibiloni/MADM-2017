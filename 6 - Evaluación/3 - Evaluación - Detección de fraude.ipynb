{
 "cells": [
  {
   "cell_type": "markdown",
   "metadata": {},
   "source": [
    "# Detección de fraude\n",
    "---\n",
    "Esta parte de la evaluación consiste en realizar un modelo de predicción de fraude.\n",
    "\n",
    "El set de datos està en `data/fraud/creditcard_train.csv`\n",
    "\n",
    "La evaluación es tipo *datathon* de forma que las notas se calcularán en base a:\n",
    "\n",
    "1. Al ranking de métricas de los modelos (80%)\n",
    "2. Legibilidad y presentación del código (20%)\n",
    "\n",
    "La forma de entrega será generar un fichero csv en formato a partir de las predicciones realizadas sobre el fichero `data/fraud/creditcard_test.csv`.\n",
    "\n",
    "| IdObservación | clase_predicha | probabilidad_clase_1 |\n",
    "| ------------- | ------------- | ------------- |\n",
    "|00001|True|0.6398|\n",
    "|00002|True|0.5892|\n",
    "|00003|False|0.2163|\n",
    "\n",
    "EL fichero resultante tiene que tener por nombre `inicialapellido_test.csv` y se tiene que enviar por email a:\n",
    "\n",
    "datathonuib@gmail.com"
   ]
  }
 ],
 "metadata": {
  "kernelspec": {
   "display_name": "Python 3",
   "language": "python",
   "name": "python3"
  },
  "language_info": {
   "codemirror_mode": {
    "name": "ipython",
    "version": 3
   },
   "file_extension": ".py",
   "mimetype": "text/x-python",
   "name": "python",
   "nbconvert_exporter": "python",
   "pygments_lexer": "ipython3",
   "version": "3.6.3"
  }
 },
 "nbformat": 4,
 "nbformat_minor": 2
}
